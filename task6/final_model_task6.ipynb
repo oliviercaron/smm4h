{
 "cells": [
  {
   "cell_type": "markdown",
   "id": "0c8fadbc",
   "metadata": {},
   "source": [
    "## Best model for task6 !!!"
   ]
  },
  {
   "cell_type": "code",
   "execution_count": null,
   "id": "ac4b91eb",
   "metadata": {
    "vscode": {
     "languageId": "plaintext"
    }
   },
   "outputs": [],
   "source": []
  }
 ],
 "metadata": {
  "language_info": {
   "name": "python"
  }
 },
 "nbformat": 4,
 "nbformat_minor": 5
}
